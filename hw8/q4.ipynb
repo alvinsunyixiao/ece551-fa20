{
 "cells": [
  {
   "cell_type": "code",
   "execution_count": 1,
   "metadata": {},
   "outputs": [],
   "source": [
    "import numpy as np\n",
    "import matplotlib.pyplot as plt\n",
    "\n",
    "from scipy import signal\n",
    "\n",
    "%matplotlib inline"
   ]
  },
  {
   "cell_type": "code",
   "execution_count": 98,
   "metadata": {},
   "outputs": [],
   "source": [
    "y = np.matrix([\n",
    "    2.3294301243940634 - 0.2296259966276833j,\n",
    "    -0.4134361204474038 + 1.0082105392432457j,\n",
    "    -0.3972955429876873 - 0.3077140046653479j,\n",
    "    -0.328835156792498 + 0.3412442337892796j,\n",
    "    0.5276539575334861 - 2.6968518609509466j,\n",
    "    1.4068435099399519 + 1.609400966603145j,\n",
    "    -1.4358532259748622 + 0.4052265092075893j,\n",
    "    -0.6869999254086611 + 0.22150298448055664j,\n",
    "]).T"
   ]
  },
  {
   "cell_type": "code",
   "execution_count": 195,
   "metadata": {},
   "outputs": [],
   "source": [
    "S = y @ y.H\n",
    "U, s, VH = np.linalg.svd(S, hermitian=True)\n",
    "#eig, V = np.linalg.eig(S)"
   ]
  },
  {
   "cell_type": "code",
   "execution_count": 201,
   "metadata": {},
   "outputs": [],
   "source": [
    "D = 2\n",
    "E = U[:, 2:]\n",
    "#E = V[:, 2:]"
   ]
  },
  {
   "cell_type": "code",
   "execution_count": 202,
   "metadata": {},
   "outputs": [],
   "source": [
    "thetas = np.linspace(0, np.pi, 1000)\n",
    "Pmu = np.zeros_like(thetas, dtype=np.complex128)\n",
    "for i in range(thetas.shape[0]):\n",
    "    steer = np.matrix(np.exp(1j * thetas[i] * n)).T\n",
    "    Pmu[i] = 1. / (steer.H @ E @ E.H @ steer)"
   ]
  },
  {
   "cell_type": "code",
   "execution_count": 203,
   "metadata": {},
   "outputs": [
    {
     "data": {
      "text/plain": [
       "[<matplotlib.lines.Line2D at 0x7fccac490240>]"
      ]
     },
     "execution_count": 203,
     "metadata": {},
     "output_type": "execute_result"
    },
    {
     "data": {
      "image/png": "[encoded data removed]",
      "text/plain": [
       "<Figure size 432x288 with 1 Axes>"
      ]
     },
     "metadata": {
      "needs_background": "light"
     },
     "output_type": "display_data"
    }
   ],
   "source": [
    "plt.plot(np.abs(Pmu))"
   ]
  },
  {
   "cell_type": "code",
   "execution_count": 199,
   "metadata": {},
   "outputs": [],
   "source": [
    "peaks, _ = signal.find_peaks(np.abs(Pmu), prominence=0.01)"
   ]
  },
  {
   "cell_type": "code",
   "execution_count": 200,
   "metadata": {},
   "outputs": [
    {
     "data": {
      "text/plain": [
       "array([0.477, 0.823])"
      ]
     },
     "execution_count": 200,
     "metadata": {},
     "output_type": "execute_result"
    }
   ],
   "source": [
    "peaks / Pmu.shape[0]"
   ]
  },
  {
   "cell_type": "code",
   "execution_count": null,
   "metadata": {},
   "outputs": [],
   "source": []
  }
 ],
 "metadata": {
  "kernelspec": {
   "display_name": "Python 3",
   "language": "python",
   "name": "python3"
  },
  "language_info": {
   "codemirror_mode": {
    "name": "ipython",
    "version": 3
   },
   "file_extension": ".py",
   "mimetype": "text/x-python",
   "name": "python",
   "nbconvert_exporter": "python",
   "pygments_lexer": "ipython3",
   "version": "3.6.9"
  }
 },
 "nbformat": 4,
 "nbformat_minor": 4
}
